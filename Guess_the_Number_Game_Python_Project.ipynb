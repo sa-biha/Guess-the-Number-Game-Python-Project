{
  "nbformat": 4,
  "nbformat_minor": 0,
  "metadata": {
    "colab": {
      "provenance": [],
      "authorship_tag": "ABX9TyP+W1W38L6xWz2VkKb7QnBz",
      "include_colab_link": true
    },
    "kernelspec": {
      "name": "python3",
      "display_name": "Python 3"
    },
    "language_info": {
      "name": "python"
    }
  },
  "cells": [
    {
      "cell_type": "markdown",
      "metadata": {
        "id": "view-in-github",
        "colab_type": "text"
      },
      "source": [
        "<a href=\"https://colab.research.google.com/github/sa-biha/Guess-the-Number-Game-Python-Project/blob/main/Guess_the_Number_Game_Python_Project.ipynb\" target=\"_parent\"><img src=\"https://colab.research.google.com/assets/colab-badge.svg\" alt=\"Open In Colab\"/></a>"
      ]
    },
    {
      "cell_type": "markdown",
      "source": [
        " **Guess the Number Game Python Project**\n"
      ],
      "metadata": {
        "id": "BTQ-kTYGJv1E"
      }
    },
    {
      "cell_type": "code",
      "source": [
        "# Importing the random module\n",
        "import random\n",
        "\n",
        "# Main function for the game\n",
        "def guess_the_number():\n",
        "    print(\"Welcome to the Guess the Number Game!\")\n",
        "    print(\"I have chosen a number between 1 and 50.\")\n",
        "\n",
        "    # Generate a random number\n",
        "    secret_number = random.randint(1, 50)\n",
        "    attempts = 0\n",
        "\n",
        "    # Game loop\n",
        "    while True:\n",
        "        # Taking user input\n",
        "        guess = int(input(\"Enter your guess: \"))\n",
        "        attempts += 1\n",
        "\n",
        "        # Check if the guess is correct\n",
        "        if guess < secret_number:\n",
        "            print(\"Too low!\")\n",
        "        elif guess > secret_number:\n",
        "            print(\"Too high!\")\n",
        "        else:\n",
        "            print(f\"Congratulations! You guessed the number in {attempts} attempts.\")\n",
        "            break\n",
        "\n",
        "# Starting the game\n",
        "if __name__ == \"__main__\":\n",
        "    guess_the_number()"
      ],
      "metadata": {
        "colab": {
          "base_uri": "https://localhost:8080/"
        },
        "id": "GDo8T1CzKOSI",
        "outputId": "601206ea-d6bc-4b1a-9958-ae2b5a7b304b"
      },
      "execution_count": null,
      "outputs": [
        {
          "output_type": "stream",
          "name": "stdout",
          "text": [
            "Welcome to the Guess the Number Game!\n",
            "I have chosen a number between 1 and 50.\n",
            "Enter your guess: 45\n",
            "Too high!\n",
            "Enter your guess: 25\n",
            "Too low!\n",
            "Enter your guess: 15\n",
            "Too low!\n",
            "Enter your guess: 10\n",
            "Too low!\n",
            "Enter your guess: 5\n",
            "Too low!\n",
            "Enter your guess: 6\n",
            "Too low!\n",
            "Enter your guess: 9\n",
            "Too low!\n",
            "Enter your guess: 47\n",
            "Too high!\n",
            "Enter your guess: 36\n",
            "Too low!\n",
            "Enter your guess: 41\n",
            "Too low!\n",
            "Enter your guess: 43\n",
            "Congratulations! You guessed the number in 11 attempts.\n"
          ]
        }
      ]
    }
  ]
}